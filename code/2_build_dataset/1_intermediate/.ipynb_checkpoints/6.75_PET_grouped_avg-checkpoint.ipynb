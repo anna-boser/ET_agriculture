{
 "cells": [
  {
   "cell_type": "code",
   "execution_count": null,
   "id": "19835366-d40c-4660-adf3-4ae86d6973eb",
   "metadata": {},
   "outputs": [],
   "source": [
    "# average the output of 6.5_PET_yeargrouped.py across years such that you end up with a stack of only 6 images\n",
    "# Anna Boser Jan 5, 2022"
   ]
  },
  {
   "cell_type": "code",
   "execution_count": null,
   "id": "a837b430-5371-4de8-a3f2-e22c69cc4ef8",
   "metadata": {},
   "outputs": [],
   "source": [
    "from pyprojroot import here\n",
    "import rasterio\n",
    "import datetime\n",
    "import numpy as np\n",
    "import pandas as pd\n",
    "import pickle\n",
    "from osgeo import gdal, gdalconst\n",
    "import matplotlib.pyplot as plt"
   ]
  }
 ],
 "metadata": {
  "kernelspec": {
   "display_name": "Python [conda env:bplayground] *",
   "language": "python",
   "name": "conda-env-bplayground-py"
  },
  "language_info": {
   "codemirror_mode": {
    "name": "ipython",
    "version": 3
   },
   "file_extension": ".py",
   "mimetype": "text/x-python",
   "name": "python",
   "nbconvert_exporter": "python",
   "pygments_lexer": "ipython3",
   "version": "3.8.6"
  }
 },
 "nbformat": 4,
 "nbformat_minor": 5
}
