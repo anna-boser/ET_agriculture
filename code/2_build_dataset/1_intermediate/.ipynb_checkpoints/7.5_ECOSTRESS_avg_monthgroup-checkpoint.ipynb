{
 "cells": [
  {
   "cell_type": "code",
   "execution_count": 24,
   "id": "42272146-eb9d-42e2-9be6-152d565428e7",
   "metadata": {},
   "outputs": [],
   "source": [
    "import os\n",
    "import datetime\n",
    "from pyprojroot import here\n",
    "import pandas as pd\n",
    "from osgeo import gdal"
   ]
  },
  {
   "cell_type": "code",
   "execution_count": 25,
   "id": "fa605dbb-f002-4cc2-8213-c9eda7ee4e3d",
   "metadata": {},
   "outputs": [],
   "source": [
    "# list all the ECOSTRESS files\n",
    "file_list = [s for s in os.listdir(str(here(\"./data/raw/ECOSTRESS/\"))) if s.endswith('.tif')]"
   ]
  },
  {
   "cell_type": "code",
   "execution_count": 26,
   "id": "e68c6dd6-c607-4f6a-aab7-536aef577b7d",
   "metadata": {},
   "outputs": [],
   "source": [
    "# function to parse the file names to return the timestamp or whether it's an ET or uncertainty measure\n",
    "def parse_filename(file_string,result='timestamp'):\n",
    "    (root_string,variable,method,source,raster_type,timestamp,end_string) = file_string.split('_')\n",
    "    if result == 'timestamp':\n",
    "        return datetime.datetime.strptime(timestamp[3:], \"%Y%j%H%M%S\")\n",
    "    elif result == 'raster_type':\n",
    "        return raster_type\n",
    "    else:\n",
    "        return None   "
   ]
  },
  {
   "cell_type": "code",
   "execution_count": 33,
   "id": "d5eb4272-0885-42ac-8582-c41d131fe464",
   "metadata": {},
   "outputs": [],
   "source": [
    "# function to average all the files together using GDAL\n",
    "def average_files(file_list, output=None):\n",
    "    if output:\n",
    "        file_string = \" -A \".join(file_list)\n",
    "        print(\"Averaging {files}\".format(files=file_string))\n",
    "        print(\"Output {output}\".format(output=output))\n",
    "        command = 'gdal_calc.py -o {output} -of gtiff --extent=intersect --calc=\"numpy.average(A,axis=0)\" -A '.format(output=output) + file_string\n",
    "        # print(\"Command: {command}\".format(command=command))\n",
    "    else:\n",
    "        raise ValueError(\"Must provide output filename as argument\")\n",
    "    print(os.popen(command).read())\n",
    "    return None\n",
    "\n",
    "# function to count how many files contribute a value to a pixel using GDAL\n",
    "def pixel_count(file_list, output=None):\n",
    "    if output:\n",
    "        file_string = \" -A \".join(file_list)\n",
    "        print(\"Counting {files}\".format(files=file_string))\n",
    "        print(\"Output {output}\".format(output=output))\n",
    "        command = 'gdal_calc.py -o {output} -of gtiff --extent=intersect --calc=\"numpy.sum(!is.na(A),axis=0)\" -A '.format(output=output) + file_string\n",
    "    else:\n",
    "        raise ValueError(\"Must provide output filename as argument\")\n",
    "    print(os.popen(command).read())\n",
    "    return None"
   ]
  },
  {
   "cell_type": "code",
   "execution_count": 28,
   "id": "80cc30d5-054f-4a51-a903-922f8828d9bd",
   "metadata": {},
   "outputs": [],
   "source": [
    "# create a dataframe with each file and time and type information\n",
    "df = pd.DataFrame(file_list, columns=['name'])\n",
    "df['timestamp'] = df['name'].apply(parse_filename)\n",
    "df['raster_type'] = df['name'].apply(parse_filename, result='raster_type')\n",
    "df['year'] = df['timestamp'].apply(lambda x: x.year)\n",
    "df['doy'] = df['timestamp'].apply(lambda x: x.timetuple().tm_yday)\n",
    "df['fullname'] = df['name'].apply(lambda x: str(here(\"./data/raw/ECOSTRESS/\")) + \"/\" + x)\n",
    "df['monthday'] = df['timestamp'].apply(lambda x: int(str(x.month)+str(x.day).zfill(2)))\n",
    "\n",
    "bins = [0, 115, 315, 515, 715, 915, 1115, 1300]\n",
    "labels = ['NDJ', 'JFM', 'MAM', 'MJJ', 'JAS', 'SAN', 'NDJ']\n",
    "df['monthgroup'] = pd.cut(df.monthday, bins, labels = labels, include_lowest = True, ordered = False)"
   ]
  },
  {
   "cell_type": "code",
   "execution_count": 29,
   "id": "75503837-1e6d-4704-acbc-019569b6bd45",
   "metadata": {},
   "outputs": [],
   "source": [
    "# create the folder to save the merged outputs if it doesn't exist yet\n",
    "outdir = str(here(\"./data/intermediate/ECOSTRESS/monthgroup_averaged\"))\n",
    "if not os.path.exists(outdir):\n",
    "    os.makedirs(outdir)"
   ]
  },
  {
   "cell_type": "code",
   "execution_count": 30,
   "id": "045f4399-2971-4f16-9b1f-0962b16e060c",
   "metadata": {},
   "outputs": [],
   "source": [
    "# get the unique days and raster types you need to create a merged raster for\n",
    "years = df.year.unique()\n",
    "monthgroups = df.monthgroup.unique()\n",
    "raster_types = df.raster_type.unique()"
   ]
  },
  {
   "cell_type": "code",
   "execution_count": 34,
   "id": "4b3540f5-a61d-484c-baf0-ca59d90ea3fd",
   "metadata": {},
   "outputs": [
    {
     "name": "stdout",
     "output_type": "stream",
     "text": [
      "Averaging /Users/annaboser/Documents/GitHub/ET_agriculture/data/raw/ECOSTRESS/ECO3ETPTJPL.001_EVAPOTRANSPIRATION_PT_JPL_ETinstUncertainty_doy2019028010658_aid0001.tif -A /Users/annaboser/Documents/GitHub/ET_agriculture/data/raw/ECOSTRESS/ECO3ETPTJPL.001_EVAPOTRANSPIRATION_PT_JPL_ETinstUncertainty_doy2019042184230_aid0001.tif -A /Users/annaboser/Documents/GitHub/ET_agriculture/data/raw/ECOSTRESS/ECO3ETPTJPL.001_EVAPOTRANSPIRATION_PT_JPL_ETinstUncertainty_doy2019029001615_aid0001.tif -A /Users/annaboser/Documents/GitHub/ET_agriculture/data/raw/ECOSTRESS/ECO3ETPTJPL.001_EVAPOTRANSPIRATION_PT_JPL_ETinstUncertainty_doy2019027002130_aid0001.tif -A /Users/annaboser/Documents/GitHub/ET_agriculture/data/raw/ECOSTRESS/ECO3ETPTJPL.001_EVAPOTRANSPIRATION_PT_JPL_ETinstUncertainty_doy2019028010750_aid0001.tif -A /Users/annaboser/Documents/GitHub/ET_agriculture/data/raw/ECOSTRESS/ECO3ETPTJPL.001_EVAPOTRANSPIRATION_PT_JPL_ETinstUncertainty_doy2019045010713_aid0001.tif -A /Users/annaboser/Documents/GitHub/ET_agriculture/data/raw/ECOSTRESS/ECO3ETPTJPL.001_EVAPOTRANSPIRATION_PT_JPL_ETinstUncertainty_doy2019026011306_aid0001.tif -A /Users/annaboser/Documents/GitHub/ET_agriculture/data/raw/ECOSTRESS/ECO3ETPTJPL.001_EVAPOTRANSPIRATION_PT_JPL_ETinstUncertainty_doy2019043011230_aid0001.tif -A /Users/annaboser/Documents/GitHub/ET_agriculture/data/raw/ECOSTRESS/ECO3ETPTJPL.001_EVAPOTRANSPIRATION_PT_JPL_ETinstUncertainty_doy2019050150351_aid0001.tif -A /Users/annaboser/Documents/GitHub/ET_agriculture/data/raw/ECOSTRESS/ECO3ETPTJPL.001_EVAPOTRANSPIRATION_PT_JPL_ETinstUncertainty_doy2019027002314_aid0001.tif -A /Users/annaboser/Documents/GitHub/ET_agriculture/data/raw/ECOSTRESS/ECO3ETPTJPL.001_EVAPOTRANSPIRATION_PT_JPL_ETinstUncertainty_doy2019032222727_aid0001.tif -A /Users/annaboser/Documents/GitHub/ET_agriculture/data/raw/ECOSTRESS/ECO3ETPTJPL.001_EVAPOTRANSPIRATION_PT_JPL_ETinstUncertainty_doy2019042184323_aid0001.tif -A /Users/annaboser/Documents/GitHub/ET_agriculture/data/raw/ECOSTRESS/ECO3ETPTJPL.001_EVAPOTRANSPIRATION_PT_JPL_ETinstUncertainty_doy2019029232530_aid0001.tif -A /Users/annaboser/Documents/GitHub/ET_agriculture/data/raw/ECOSTRESS/ECO3ETPTJPL.001_EVAPOTRANSPIRATION_PT_JPL_ETinstUncertainty_doy2019050150443_aid0001.tif -A /Users/annaboser/Documents/GitHub/ET_agriculture/data/raw/ECOSTRESS/ECO3ETPTJPL.001_EVAPOTRANSPIRATION_PT_JPL_ETinstUncertainty_doy2019040184838_aid0001.tif -A /Users/annaboser/Documents/GitHub/ET_agriculture/data/raw/ECOSTRESS/ECO3ETPTJPL.001_EVAPOTRANSPIRATION_PT_JPL_ETinstUncertainty_doy2019033213551_aid0001.tif -A /Users/annaboser/Documents/GitHub/ET_agriculture/data/raw/ECOSTRESS/ECO3ETPTJPL.001_EVAPOTRANSPIRATION_PT_JPL_ETinstUncertainty_doy2019048231846_aid0001.tif -A /Users/annaboser/Documents/GitHub/ET_agriculture/data/raw/ECOSTRESS/ECO3ETPTJPL.001_EVAPOTRANSPIRATION_PT_JPL_ETinstUncertainty_doy2019043175147_aid0001.tif -A /Users/annaboser/Documents/GitHub/ET_agriculture/data/raw/ECOSTRESS/ECO3ETPTJPL.001_EVAPOTRANSPIRATION_PT_JPL_ETinstUncertainty_doy2019043175055_aid0001.tif -A /Users/annaboser/Documents/GitHub/ET_agriculture/data/raw/ECOSTRESS/ECO3ETPTJPL.001_EVAPOTRANSPIRATION_PT_JPL_ETinstUncertainty_doy2019027002222_aid0001.tif -A /Users/annaboser/Documents/GitHub/ET_agriculture/data/raw/ECOSTRESS/ECO3ETPTJPL.001_EVAPOTRANSPIRATION_PT_JPL_ETinstUncertainty_doy2019029232438_aid0001.tif -A /Users/annaboser/Documents/GitHub/ET_agriculture/data/raw/ECOSTRESS/ECO3ETPTJPL.001_EVAPOTRANSPIRATION_PT_JPL_ETinstUncertainty_doy2019033213459_aid0001.tif -A /Users/annaboser/Documents/GitHub/ET_agriculture/data/raw/ECOSTRESS/ECO3ETPTJPL.001_EVAPOTRANSPIRATION_PT_JPL_ETinstUncertainty_doy2019043011138_aid0001.tif\n",
      "Output /Users/annaboser/Documents/GitHub/ET_agriculture/data/intermediate/ECOSTRESS/monthgroup_averaged/avg_2019_JFM_ETinstUncertainty.tif\n",
      "Command: gdal_calc.py -o /Users/annaboser/Documents/GitHub/ET_agriculture/data/intermediate/ECOSTRESS/monthgroup_averaged/avg_2019_JFM_ETinstUncertainty.tif -of gtiff --extent=intersect --calc=\"numpy.average(A,axis=0)\" -A /Users/annaboser/Documents/GitHub/ET_agriculture/data/raw/ECOSTRESS/ECO3ETPTJPL.001_EVAPOTRANSPIRATION_PT_JPL_ETinstUncertainty_doy2019028010658_aid0001.tif -A /Users/annaboser/Documents/GitHub/ET_agriculture/data/raw/ECOSTRESS/ECO3ETPTJPL.001_EVAPOTRANSPIRATION_PT_JPL_ETinstUncertainty_doy2019042184230_aid0001.tif -A /Users/annaboser/Documents/GitHub/ET_agriculture/data/raw/ECOSTRESS/ECO3ETPTJPL.001_EVAPOTRANSPIRATION_PT_JPL_ETinstUncertainty_doy2019029001615_aid0001.tif -A /Users/annaboser/Documents/GitHub/ET_agriculture/data/raw/ECOSTRESS/ECO3ETPTJPL.001_EVAPOTRANSPIRATION_PT_JPL_ETinstUncertainty_doy2019027002130_aid0001.tif -A /Users/annaboser/Documents/GitHub/ET_agriculture/data/raw/ECOSTRESS/ECO3ETPTJPL.001_EVAPOTRANSPIRATION_PT_JPL_ETinstUncertainty_doy2019028010750_aid0001.tif -A /Users/annaboser/Documents/GitHub/ET_agriculture/data/raw/ECOSTRESS/ECO3ETPTJPL.001_EVAPOTRANSPIRATION_PT_JPL_ETinstUncertainty_doy2019045010713_aid0001.tif -A /Users/annaboser/Documents/GitHub/ET_agriculture/data/raw/ECOSTRESS/ECO3ETPTJPL.001_EVAPOTRANSPIRATION_PT_JPL_ETinstUncertainty_doy2019026011306_aid0001.tif -A /Users/annaboser/Documents/GitHub/ET_agriculture/data/raw/ECOSTRESS/ECO3ETPTJPL.001_EVAPOTRANSPIRATION_PT_JPL_ETinstUncertainty_doy2019043011230_aid0001.tif -A /Users/annaboser/Documents/GitHub/ET_agriculture/data/raw/ECOSTRESS/ECO3ETPTJPL.001_EVAPOTRANSPIRATION_PT_JPL_ETinstUncertainty_doy2019050150351_aid0001.tif -A /Users/annaboser/Documents/GitHub/ET_agriculture/data/raw/ECOSTRESS/ECO3ETPTJPL.001_EVAPOTRANSPIRATION_PT_JPL_ETinstUncertainty_doy2019027002314_aid0001.tif -A /Users/annaboser/Documents/GitHub/ET_agriculture/data/raw/ECOSTRESS/ECO3ETPTJPL.001_EVAPOTRANSPIRATION_PT_JPL_ETinstUncertainty_doy2019032222727_aid0001.tif -A /Users/annaboser/Documents/GitHub/ET_agriculture/data/raw/ECOSTRESS/ECO3ETPTJPL.001_EVAPOTRANSPIRATION_PT_JPL_ETinstUncertainty_doy2019042184323_aid0001.tif -A /Users/annaboser/Documents/GitHub/ET_agriculture/data/raw/ECOSTRESS/ECO3ETPTJPL.001_EVAPOTRANSPIRATION_PT_JPL_ETinstUncertainty_doy2019029232530_aid0001.tif -A /Users/annaboser/Documents/GitHub/ET_agriculture/data/raw/ECOSTRESS/ECO3ETPTJPL.001_EVAPOTRANSPIRATION_PT_JPL_ETinstUncertainty_doy2019050150443_aid0001.tif -A /Users/annaboser/Documents/GitHub/ET_agriculture/data/raw/ECOSTRESS/ECO3ETPTJPL.001_EVAPOTRANSPIRATION_PT_JPL_ETinstUncertainty_doy2019040184838_aid0001.tif -A /Users/annaboser/Documents/GitHub/ET_agriculture/data/raw/ECOSTRESS/ECO3ETPTJPL.001_EVAPOTRANSPIRATION_PT_JPL_ETinstUncertainty_doy2019033213551_aid0001.tif -A /Users/annaboser/Documents/GitHub/ET_agriculture/data/raw/ECOSTRESS/ECO3ETPTJPL.001_EVAPOTRANSPIRATION_PT_JPL_ETinstUncertainty_doy2019048231846_aid0001.tif -A /Users/annaboser/Documents/GitHub/ET_agriculture/data/raw/ECOSTRESS/ECO3ETPTJPL.001_EVAPOTRANSPIRATION_PT_JPL_ETinstUncertainty_doy2019043175147_aid0001.tif -A /Users/annaboser/Documents/GitHub/ET_agriculture/data/raw/ECOSTRESS/ECO3ETPTJPL.001_EVAPOTRANSPIRATION_PT_JPL_ETinstUncertainty_doy2019043175055_aid0001.tif -A /Users/annaboser/Documents/GitHub/ET_agriculture/data/raw/ECOSTRESS/ECO3ETPTJPL.001_EVAPOTRANSPIRATION_PT_JPL_ETinstUncertainty_doy2019027002222_aid0001.tif -A /Users/annaboser/Documents/GitHub/ET_agriculture/data/raw/ECOSTRESS/ECO3ETPTJPL.001_EVAPOTRANSPIRATION_PT_JPL_ETinstUncertainty_doy2019029232438_aid0001.tif -A /Users/annaboser/Documents/GitHub/ET_agriculture/data/raw/ECOSTRESS/ECO3ETPTJPL.001_EVAPOTRANSPIRATION_PT_JPL_ETinstUncertainty_doy2019033213459_aid0001.tif -A /Users/annaboser/Documents/GitHub/ET_agriculture/data/raw/ECOSTRESS/ECO3ETPTJPL.001_EVAPOTRANSPIRATION_PT_JPL_ETinstUncertainty_doy2019043011138_aid0001.tif\n",
      "\n",
      "Averaging /Users/annaboser/Documents/GitHub/ET_agriculture/data/raw/ECOSTRESS/ECO3ETPTJPL.001_EVAPOTRANSPIRATION_PT_JPL_ETinst_doy2019033213459_aid0001.tif -A /Users/annaboser/Documents/GitHub/ET_agriculture/data/raw/ECOSTRESS/ECO3ETPTJPL.001_EVAPOTRANSPIRATION_PT_JPL_ETinst_doy2019043011138_aid0001.tif -A /Users/annaboser/Documents/GitHub/ET_agriculture/data/raw/ECOSTRESS/ECO3ETPTJPL.001_EVAPOTRANSPIRATION_PT_JPL_ETinst_doy2019043175055_aid0001.tif -A /Users/annaboser/Documents/GitHub/ET_agriculture/data/raw/ECOSTRESS/ECO3ETPTJPL.001_EVAPOTRANSPIRATION_PT_JPL_ETinst_doy2019043175147_aid0001.tif -A /Users/annaboser/Documents/GitHub/ET_agriculture/data/raw/ECOSTRESS/ECO3ETPTJPL.001_EVAPOTRANSPIRATION_PT_JPL_ETinst_doy2019027002222_aid0001.tif -A /Users/annaboser/Documents/GitHub/ET_agriculture/data/raw/ECOSTRESS/ECO3ETPTJPL.001_EVAPOTRANSPIRATION_PT_JPL_ETinst_doy2019029232438_aid0001.tif -A /Users/annaboser/Documents/GitHub/ET_agriculture/data/raw/ECOSTRESS/ECO3ETPTJPL.001_EVAPOTRANSPIRATION_PT_JPL_ETinst_doy2019032222727_aid0001.tif -A /Users/annaboser/Documents/GitHub/ET_agriculture/data/raw/ECOSTRESS/ECO3ETPTJPL.001_EVAPOTRANSPIRATION_PT_JPL_ETinst_doy2019042184323_aid0001.tif -A /Users/annaboser/Documents/GitHub/ET_agriculture/data/raw/ECOSTRESS/ECO3ETPTJPL.001_EVAPOTRANSPIRATION_PT_JPL_ETinst_doy2019046001446_aid0001.tif -A /Users/annaboser/Documents/GitHub/ET_agriculture/data/raw/ECOSTRESS/ECO3ETPTJPL.001_EVAPOTRANSPIRATION_PT_JPL_ETinst_doy2019027002314_aid0001.tif -A /Users/annaboser/Documents/GitHub/ET_agriculture/data/raw/ECOSTRESS/ECO3ETPTJPL.001_EVAPOTRANSPIRATION_PT_JPL_ETinst_doy2019045174445_aid0001.tif -A /Users/annaboser/Documents/GitHub/ET_agriculture/data/raw/ECOSTRESS/ECO3ETPTJPL.001_EVAPOTRANSPIRATION_PT_JPL_ETinst_doy2019046001538_aid0001.tif -A /Users/annaboser/Documents/GitHub/ET_agriculture/data/raw/ECOSTRESS/ECO3ETPTJPL.001_EVAPOTRANSPIRATION_PT_JPL_ETinst_doy2019040184838_aid0001.tif -A /Users/annaboser/Documents/GitHub/ET_agriculture/data/raw/ECOSTRESS/ECO3ETPTJPL.001_EVAPOTRANSPIRATION_PT_JPL_ETinst_doy2019033213551_aid0001.tif -A /Users/annaboser/Documents/GitHub/ET_agriculture/data/raw/ECOSTRESS/ECO3ETPTJPL.001_EVAPOTRANSPIRATION_PT_JPL_ETinst_doy2019045174537_aid0001.tif -A /Users/annaboser/Documents/GitHub/ET_agriculture/data/raw/ECOSTRESS/ECO3ETPTJPL.001_EVAPOTRANSPIRATION_PT_JPL_ETinst_doy2019029232530_aid0001.tif -A /Users/annaboser/Documents/GitHub/ET_agriculture/data/raw/ECOSTRESS/ECO3ETPTJPL.001_EVAPOTRANSPIRATION_PT_JPL_ETinst_doy2019046001354_aid0001.tif -A /Users/annaboser/Documents/GitHub/ET_agriculture/data/raw/ECOSTRESS/ECO3ETPTJPL.001_EVAPOTRANSPIRATION_PT_JPL_ETinst_doy2019028010750_aid0001.tif -A /Users/annaboser/Documents/GitHub/ET_agriculture/data/raw/ECOSTRESS/ECO3ETPTJPL.001_EVAPOTRANSPIRATION_PT_JPL_ETinst_doy2019045010713_aid0001.tif -A /Users/annaboser/Documents/GitHub/ET_agriculture/data/raw/ECOSTRESS/ECO3ETPTJPL.001_EVAPOTRANSPIRATION_PT_JPL_ETinst_doy2019026011306_aid0001.tif -A /Users/annaboser/Documents/GitHub/ET_agriculture/data/raw/ECOSTRESS/ECO3ETPTJPL.001_EVAPOTRANSPIRATION_PT_JPL_ETinst_doy2019043011230_aid0001.tif -A /Users/annaboser/Documents/GitHub/ET_agriculture/data/raw/ECOSTRESS/ECO3ETPTJPL.001_EVAPOTRANSPIRATION_PT_JPL_ETinst_doy2019028010658_aid0001.tif -A /Users/annaboser/Documents/GitHub/ET_agriculture/data/raw/ECOSTRESS/ECO3ETPTJPL.001_EVAPOTRANSPIRATION_PT_JPL_ETinst_doy2019027002130_aid0001.tif -A /Users/annaboser/Documents/GitHub/ET_agriculture/data/raw/ECOSTRESS/ECO3ETPTJPL.001_EVAPOTRANSPIRATION_PT_JPL_ETinst_doy2019029001615_aid0001.tif -A /Users/annaboser/Documents/GitHub/ET_agriculture/data/raw/ECOSTRESS/ECO3ETPTJPL.001_EVAPOTRANSPIRATION_PT_JPL_ETinst_doy2019042184230_aid0001.tif\n",
      "Output /Users/annaboser/Documents/GitHub/ET_agriculture/data/intermediate/ECOSTRESS/monthgroup_averaged/avg_2019_JFM_ETinst.tif\n",
      "Command: gdal_calc.py -o /Users/annaboser/Documents/GitHub/ET_agriculture/data/intermediate/ECOSTRESS/monthgroup_averaged/avg_2019_JFM_ETinst.tif -of gtiff --extent=intersect --calc=\"numpy.average(A,axis=0)\" -A /Users/annaboser/Documents/GitHub/ET_agriculture/data/raw/ECOSTRESS/ECO3ETPTJPL.001_EVAPOTRANSPIRATION_PT_JPL_ETinst_doy2019033213459_aid0001.tif -A /Users/annaboser/Documents/GitHub/ET_agriculture/data/raw/ECOSTRESS/ECO3ETPTJPL.001_EVAPOTRANSPIRATION_PT_JPL_ETinst_doy2019043011138_aid0001.tif -A /Users/annaboser/Documents/GitHub/ET_agriculture/data/raw/ECOSTRESS/ECO3ETPTJPL.001_EVAPOTRANSPIRATION_PT_JPL_ETinst_doy2019043175055_aid0001.tif -A /Users/annaboser/Documents/GitHub/ET_agriculture/data/raw/ECOSTRESS/ECO3ETPTJPL.001_EVAPOTRANSPIRATION_PT_JPL_ETinst_doy2019043175147_aid0001.tif -A /Users/annaboser/Documents/GitHub/ET_agriculture/data/raw/ECOSTRESS/ECO3ETPTJPL.001_EVAPOTRANSPIRATION_PT_JPL_ETinst_doy2019027002222_aid0001.tif -A /Users/annaboser/Documents/GitHub/ET_agriculture/data/raw/ECOSTRESS/ECO3ETPTJPL.001_EVAPOTRANSPIRATION_PT_JPL_ETinst_doy2019029232438_aid0001.tif -A /Users/annaboser/Documents/GitHub/ET_agriculture/data/raw/ECOSTRESS/ECO3ETPTJPL.001_EVAPOTRANSPIRATION_PT_JPL_ETinst_doy2019032222727_aid0001.tif -A /Users/annaboser/Documents/GitHub/ET_agriculture/data/raw/ECOSTRESS/ECO3ETPTJPL.001_EVAPOTRANSPIRATION_PT_JPL_ETinst_doy2019042184323_aid0001.tif -A /Users/annaboser/Documents/GitHub/ET_agriculture/data/raw/ECOSTRESS/ECO3ETPTJPL.001_EVAPOTRANSPIRATION_PT_JPL_ETinst_doy2019046001446_aid0001.tif -A /Users/annaboser/Documents/GitHub/ET_agriculture/data/raw/ECOSTRESS/ECO3ETPTJPL.001_EVAPOTRANSPIRATION_PT_JPL_ETinst_doy2019027002314_aid0001.tif -A /Users/annaboser/Documents/GitHub/ET_agriculture/data/raw/ECOSTRESS/ECO3ETPTJPL.001_EVAPOTRANSPIRATION_PT_JPL_ETinst_doy2019045174445_aid0001.tif -A /Users/annaboser/Documents/GitHub/ET_agriculture/data/raw/ECOSTRESS/ECO3ETPTJPL.001_EVAPOTRANSPIRATION_PT_JPL_ETinst_doy2019046001538_aid0001.tif -A /Users/annaboser/Documents/GitHub/ET_agriculture/data/raw/ECOSTRESS/ECO3ETPTJPL.001_EVAPOTRANSPIRATION_PT_JPL_ETinst_doy2019040184838_aid0001.tif -A /Users/annaboser/Documents/GitHub/ET_agriculture/data/raw/ECOSTRESS/ECO3ETPTJPL.001_EVAPOTRANSPIRATION_PT_JPL_ETinst_doy2019033213551_aid0001.tif -A /Users/annaboser/Documents/GitHub/ET_agriculture/data/raw/ECOSTRESS/ECO3ETPTJPL.001_EVAPOTRANSPIRATION_PT_JPL_ETinst_doy2019045174537_aid0001.tif -A /Users/annaboser/Documents/GitHub/ET_agriculture/data/raw/ECOSTRESS/ECO3ETPTJPL.001_EVAPOTRANSPIRATION_PT_JPL_ETinst_doy2019029232530_aid0001.tif -A /Users/annaboser/Documents/GitHub/ET_agriculture/data/raw/ECOSTRESS/ECO3ETPTJPL.001_EVAPOTRANSPIRATION_PT_JPL_ETinst_doy2019046001354_aid0001.tif -A /Users/annaboser/Documents/GitHub/ET_agriculture/data/raw/ECOSTRESS/ECO3ETPTJPL.001_EVAPOTRANSPIRATION_PT_JPL_ETinst_doy2019028010750_aid0001.tif -A /Users/annaboser/Documents/GitHub/ET_agriculture/data/raw/ECOSTRESS/ECO3ETPTJPL.001_EVAPOTRANSPIRATION_PT_JPL_ETinst_doy2019045010713_aid0001.tif -A /Users/annaboser/Documents/GitHub/ET_agriculture/data/raw/ECOSTRESS/ECO3ETPTJPL.001_EVAPOTRANSPIRATION_PT_JPL_ETinst_doy2019026011306_aid0001.tif -A /Users/annaboser/Documents/GitHub/ET_agriculture/data/raw/ECOSTRESS/ECO3ETPTJPL.001_EVAPOTRANSPIRATION_PT_JPL_ETinst_doy2019043011230_aid0001.tif -A /Users/annaboser/Documents/GitHub/ET_agriculture/data/raw/ECOSTRESS/ECO3ETPTJPL.001_EVAPOTRANSPIRATION_PT_JPL_ETinst_doy2019028010658_aid0001.tif -A /Users/annaboser/Documents/GitHub/ET_agriculture/data/raw/ECOSTRESS/ECO3ETPTJPL.001_EVAPOTRANSPIRATION_PT_JPL_ETinst_doy2019027002130_aid0001.tif -A /Users/annaboser/Documents/GitHub/ET_agriculture/data/raw/ECOSTRESS/ECO3ETPTJPL.001_EVAPOTRANSPIRATION_PT_JPL_ETinst_doy2019029001615_aid0001.tif -A /Users/annaboser/Documents/GitHub/ET_agriculture/data/raw/ECOSTRESS/ECO3ETPTJPL.001_EVAPOTRANSPIRATION_PT_JPL_ETinst_doy2019042184230_aid0001.tif\n",
      "\n",
      "Averaging \n",
      "Output /Users/annaboser/Documents/GitHub/ET_agriculture/data/intermediate/ECOSTRESS/monthgroup_averaged/avg_2019_MJJ_ETinstUncertainty.tif\n",
      "Command: gdal_calc.py -o /Users/annaboser/Documents/GitHub/ET_agriculture/data/intermediate/ECOSTRESS/monthgroup_averaged/avg_2019_MJJ_ETinstUncertainty.tif -of gtiff --extent=intersect --calc=\"numpy.average(A,axis=0)\" -A \n",
      "\n",
      "Averaging /Users/annaboser/Documents/GitHub/ET_agriculture/data/raw/ECOSTRESS/ECO3ETPTJPL.001_EVAPOTRANSPIRATION_PT_JPL_ETinst_doy2019151223614_aid0001.tif -A /Users/annaboser/Documents/GitHub/ET_agriculture/data/raw/ECOSTRESS/ECO3ETPTJPL.001_EVAPOTRANSPIRATION_PT_JPL_ETinst_doy2019150001456_aid0001.tif\n",
      "Output /Users/annaboser/Documents/GitHub/ET_agriculture/data/intermediate/ECOSTRESS/monthgroup_averaged/avg_2019_MJJ_ETinst.tif\n",
      "Command: gdal_calc.py -o /Users/annaboser/Documents/GitHub/ET_agriculture/data/intermediate/ECOSTRESS/monthgroup_averaged/avg_2019_MJJ_ETinst.tif -of gtiff --extent=intersect --calc=\"numpy.average(A,axis=0)\" -A /Users/annaboser/Documents/GitHub/ET_agriculture/data/raw/ECOSTRESS/ECO3ETPTJPL.001_EVAPOTRANSPIRATION_PT_JPL_ETinst_doy2019151223614_aid0001.tif -A /Users/annaboser/Documents/GitHub/ET_agriculture/data/raw/ECOSTRESS/ECO3ETPTJPL.001_EVAPOTRANSPIRATION_PT_JPL_ETinst_doy2019150001456_aid0001.tif\n",
      "\n",
      "Averaging \n",
      "Output /Users/annaboser/Documents/GitHub/ET_agriculture/data/intermediate/ECOSTRESS/monthgroup_averaged/avg_2019_JAS_ETinstUncertainty.tif\n",
      "Command: gdal_calc.py -o /Users/annaboser/Documents/GitHub/ET_agriculture/data/intermediate/ECOSTRESS/monthgroup_averaged/avg_2019_JAS_ETinstUncertainty.tif -of gtiff --extent=intersect --calc=\"numpy.average(A,axis=0)\" -A \n",
      "\n",
      "Averaging /Users/annaboser/Documents/GitHub/ET_agriculture/data/raw/ECOSTRESS/ECO3ETPTJPL.001_EVAPOTRANSPIRATION_PT_JPL_ETinst_doy2019207003845_aid0001.tif\n",
      "Output /Users/annaboser/Documents/GitHub/ET_agriculture/data/intermediate/ECOSTRESS/monthgroup_averaged/avg_2019_JAS_ETinst.tif\n",
      "Command: gdal_calc.py -o /Users/annaboser/Documents/GitHub/ET_agriculture/data/intermediate/ECOSTRESS/monthgroup_averaged/avg_2019_JAS_ETinst.tif -of gtiff --extent=intersect --calc=\"numpy.average(A,axis=0)\" -A /Users/annaboser/Documents/GitHub/ET_agriculture/data/raw/ECOSTRESS/ECO3ETPTJPL.001_EVAPOTRANSPIRATION_PT_JPL_ETinst_doy2019207003845_aid0001.tif\n",
      "\n",
      "Averaging \n",
      "Output /Users/annaboser/Documents/GitHub/ET_agriculture/data/intermediate/ECOSTRESS/monthgroup_averaged/avg_2019_NDJ_ETinstUncertainty.tif\n",
      "Command: gdal_calc.py -o /Users/annaboser/Documents/GitHub/ET_agriculture/data/intermediate/ECOSTRESS/monthgroup_averaged/avg_2019_NDJ_ETinstUncertainty.tif -of gtiff --extent=intersect --calc=\"numpy.average(A,axis=0)\" -A \n",
      "\n",
      "Averaging /Users/annaboser/Documents/GitHub/ET_agriculture/data/raw/ECOSTRESS/ECO3ETPTJPL.001_EVAPOTRANSPIRATION_PT_JPL_ETinst_doy2019010150436_aid0001.tif\n",
      "Output /Users/annaboser/Documents/GitHub/ET_agriculture/data/intermediate/ECOSTRESS/monthgroup_averaged/avg_2019_NDJ_ETinst.tif\n",
      "Command: gdal_calc.py -o /Users/annaboser/Documents/GitHub/ET_agriculture/data/intermediate/ECOSTRESS/monthgroup_averaged/avg_2019_NDJ_ETinst.tif -of gtiff --extent=intersect --calc=\"numpy.average(A,axis=0)\" -A /Users/annaboser/Documents/GitHub/ET_agriculture/data/raw/ECOSTRESS/ECO3ETPTJPL.001_EVAPOTRANSPIRATION_PT_JPL_ETinst_doy2019010150436_aid0001.tif\n",
      "\n"
     ]
    }
   ],
   "source": [
    "# take the average \n",
    "for year in years:\n",
    "    for monthgroup in monthgroups:\n",
    "        for raster_type in raster_types:\n",
    "            \n",
    "            # define the name of the file to save to\n",
    "            merged_output_filename = \"avg_{year}_{monthgroup}_{raster_type}.tif\".format(\n",
    "                raster_type=raster_type,\n",
    "                monthgroup=monthgroup,\n",
    "                year=year)\n",
    "            \n",
    "            # select the files with the correct time and raster type\n",
    "            select_file_list = (df[\n",
    "                (df['year'] == year) & \n",
    "                (df['monthgroup'] == monthgroup) & \n",
    "                (df['raster_type'] == raster_type)\n",
    "            ].fullname.to_list())\n",
    "            \n",
    "            # average and save\n",
    "            average_files(select_file_list, output= outdir + \"/\" + merged_output_filename)"
   ]
  },
  {
   "cell_type": "code",
   "execution_count": null,
   "id": "5bee4917-a938-4e6d-bde9-a10a7f10053d",
   "metadata": {},
   "outputs": [],
   "source": [
    "# count the pixels\n",
    "for year in years:\n",
    "    for monthgroup in monthgroups:\n",
    "        for raster_type in raster_types:\n",
    "            \n",
    "            # define the name of the file to save to\n",
    "            merged_output_filename = \"ncount_{year}_{monthgroup}_{raster_type}.tif\".format(\n",
    "                raster_type=raster_type,\n",
    "                monthgroup=monthgroup,\n",
    "                year=year)\n",
    "            \n",
    "            # select the files with the correct time and raster type\n",
    "            select_file_list = (df[\n",
    "                (df['year'] == year) & \n",
    "                (df['monthgroup'] == monthgroup) & \n",
    "                (df['raster_type'] == raster_type)\n",
    "            ].fullname.to_list())\n",
    "            \n",
    "            # count and save\n",
    "            pixel_count(select_file_list, output= outdir + \"/\" + merged_output_filename)"
   ]
  }
 ],
 "metadata": {
  "kernelspec": {
   "display_name": "Python [conda env:bplayground] *",
   "language": "python",
   "name": "conda-env-bplayground-py"
  },
  "language_info": {
   "codemirror_mode": {
    "name": "ipython",
    "version": 3
   },
   "file_extension": ".py",
   "mimetype": "text/x-python",
   "name": "python",
   "nbconvert_exporter": "python",
   "pygments_lexer": "ipython3",
   "version": "3.8.6"
  }
 },
 "nbformat": 4,
 "nbformat_minor": 5
}
