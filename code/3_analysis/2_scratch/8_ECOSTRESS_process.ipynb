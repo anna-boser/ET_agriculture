{
 "cells": [
  {
   "cell_type": "code",
   "execution_count": 1,
   "id": "26cf6e58",
   "metadata": {
    "tags": []
   },
   "outputs": [],
   "source": [
    "# This file makes ET averages for the time intervals. \n",
    "# Note that randomness would need to be inserted before this step in order to bootstrap. \n",
    "\n",
    "# Anna Boser November 5, 2021\n",
    "\n",
    "from pyprojroot import here\n",
    "import rasterio\n",
    "from rasterio.plot import show\n",
    "import datetime\n",
    "import numpy as np\n",
    "import pandas as pd\n",
    "import csv\n",
    "# from os import listdir"
   ]
  },
  {
   "cell_type": "code",
   "execution_count": 2,
   "id": "c0173dcf",
   "metadata": {},
   "outputs": [
    {
     "data": {
      "image/png": "[encoded data removed]",
      "text/plain": [
       "<Figure size 640x480 with 1 Axes>"
      ]
     },
     "metadata": {},
     "output_type": "display_data"
    },
    {
     "data": {
      "text/plain": [
       "<AxesSubplot:>"
      ]
     },
     "execution_count": 2,
     "metadata": {},
     "output_type": "execute_result"
    }
   ],
   "source": [
    "# read in raster\n",
    "img = rasterio.open(here(\"./data/intermediate/ECOSTRESS/ETinst_OGunits_1.tif\"))\n",
    "show(img)"
   ]
  },
  {
   "cell_type": "code",
   "execution_count": 3,
   "id": "1bb31055",
   "metadata": {},
   "outputs": [
    {
     "data": {
      "text/plain": [
       "(50, 15017, 16289)"
      ]
     },
     "execution_count": 3,
     "metadata": {},
     "output_type": "execute_result"
    }
   ],
   "source": [
    "array = np.array(img.read())\n",
    "# array = array[0:2,:,:]\n",
    "# array[array == -3.4e+38] = np.NaN\n",
    "array.shape #date lon lat"
   ]
  },
  {
   "cell_type": "code",
   "execution_count": 12,
   "id": "c3ef9b9a-c267-4eb3-a6ed-06c84289a987",
   "metadata": {},
   "outputs": [
    {
     "data": {
      "text/plain": [
       "(2, 15017, 16289)"
      ]
     },
     "execution_count": 12,
     "metadata": {},
     "output_type": "execute_result"
    }
   ],
   "source": [
    "array[array < 0] = np.NaN\n",
    "array.shape"
   ]
  },
  {
   "cell_type": "code",
   "execution_count": 13,
   "id": "582ac9bb-7a47-4ca9-b072-31778f91c296",
   "metadata": {},
   "outputs": [
    {
     "data": {
      "text/plain": [
       "array([0.        , 0.00105274, 0.00112174, ...,        nan,        nan,\n",
       "              nan], dtype=float32)"
      ]
     },
     "execution_count": 13,
     "metadata": {},
     "output_type": "execute_result"
    }
   ],
   "source": [
    "np.unique(array)"
   ]
  },
  {
   "cell_type": "code",
   "execution_count": 14,
   "id": "4a3cc78e",
   "metadata": {},
   "outputs": [
    {
     "data": {
      "text/plain": [
       "['2019-01-27',\n",
       " '2019-01-28',\n",
       " '2019-01-28',\n",
       " '2019-01-29',\n",
       " '2019-01-29',\n",
       " '2019-01-29',\n",
       " '2019-02-01',\n",
       " '2019-02-02',\n",
       " '2019-05-30',\n",
       " '2019-05-31']"
      ]
     },
     "execution_count": 14,
     "metadata": {},
     "output_type": "execute_result"
    }
   ],
   "source": [
    "# average by time interval\n",
    "\n",
    "# get dates\n",
    "dates_list = pd.read_csv(here(\"./data/intermediate/ECOSTRESS/dates.csv\"))['x'].tolist()\n",
    "\n",
    "# these are the start dates of the wanted time intervals\n",
    "date_starts = [datetime.date(day = d, month = m, year = y) for y in (2019, 2020) for m in range(1, 13) for d in (1,15)]\n",
    "del date_starts[5:9]\n",
    "del date_starts[-3:-1]\n",
    "del date_starts[-1]\n",
    "\n",
    "# index of image on or nearest after start date\n",
    "start_index = [date_list.index(min([i for i in date_list if i >= date_start], key=lambda x:x-date_start)) + 1 for date_start in date_starts] # plus one since bands are 1 indexed\n",
    "\n",
    "# index of image on or nearest previous to start date + 61 days (this is for a non-inclusive index range so this date will be the first one not to be included in a subset)\n",
    "end_index = [date_list.index(min([i for i in date_list if i <= date_start + datetime.timedelta(days=61)], key=lambda x:date_start+datetime.timedelta(days=61)-x)) + 1 for date_start in date_starts] # plus one since bands are 1 indexed\n",
    "\n",
    "#average by time interval\n",
    "newarray = np.stack([array[start_index[i]:end_index[i]].mean(axis = 0) for i in range(0,len(start_index))], axis=0)\n",
    "newarray.shape"
   ]
  },
  {
   "cell_type": "code",
   "execution_count": null,
   "id": "8a19fa26",
   "metadata": {},
   "outputs": [],
   "source": [
    "# save \n",
    "\n",
    "# get metadata\n",
    "metadata = img.profile\n",
    "metadata['count'] = 41 # 41 different time intervals\n",
    "\n",
    "# write your new raster\n",
    "with rasterio.open(here(\"./data/intermediate/ECOSTRESS/ETinst_rolling_average.tif\"), 'w', **metadata) as dst:\n",
    "    dst.write(newarray)"
   ]
  }
 ],
 "metadata": {
  "kernelspec": {
   "display_name": "Python 3",
   "language": "python",
   "name": "python3"
  },
  "language_info": {
   "codemirror_mode": {
    "name": "ipython",
    "version": 3
   },
   "file_extension": ".py",
   "mimetype": "text/x-python",
   "name": "python",
   "nbconvert_exporter": "python",
   "pygments_lexer": "ipython3",
   "version": "3.8.6"
  }
 },
 "nbformat": 4,
 "nbformat_minor": 5
}
