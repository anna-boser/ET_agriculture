{
 "cells": [
  {
   "cell_type": "code",
   "execution_count": 3,
   "id": "7bc42b03",
   "metadata": {
    "tags": []
   },
   "outputs": [],
   "source": [
    "# This file takes the ECOSTRESS data, turns it into mm units, \n",
    "# resamples it to the consistent CA grid, and stacks it. \n",
    "\n",
    "# It also creates an accompanying brick of uncertainties. \n",
    "# If the uncertainties are missing, then that layer is simply NA. \n",
    "\n",
    "# Anna Boser November 5, 2021\n",
    "\n",
    "from pyprojroot import here\n",
    "import rasterio\n",
    "from rasterio.plot import show\n",
    "import datetime\n",
    "import numpy as np\n",
    "import pandas as pd\n",
    "import csv\n",
    "# from os import listdir"
   ]
  },
  {
   "cell_type": "code",
   "execution_count": null,
   "id": "fe1e4f80",
   "metadata": {},
   "outputs": [],
   "source": [
    "# read in raster\n",
    "img = rasterio.open(here(\"./data/intermediate/ECOSTRESS/ETinst_OGunits.tif\"))\n",
    "show(img)"
   ]
  },
  {
   "cell_type": "code",
   "execution_count": 12,
   "id": "2a59f34d",
   "metadata": {},
   "outputs": [
    {
     "ename": "NameError",
     "evalue": "name 'img' is not defined",
     "output_type": "error",
     "traceback": [
      "\u001b[0;31m---------------------------------------------------------------------------\u001b[0m",
      "\u001b[0;31mNameError\u001b[0m                                 Traceback (most recent call last)",
      "\u001b[0;32m<ipython-input-12-b12a5d3fc995>\u001b[0m in \u001b[0;36m<module>\u001b[0;34m\u001b[0m\n\u001b[0;32m----> 1\u001b[0;31m \u001b[0marray\u001b[0m \u001b[0;34m=\u001b[0m \u001b[0mnp\u001b[0m\u001b[0;34m.\u001b[0m\u001b[0marray\u001b[0m\u001b[0;34m(\u001b[0m\u001b[0mimg\u001b[0m\u001b[0;34m.\u001b[0m\u001b[0mread\u001b[0m\u001b[0;34m(\u001b[0m\u001b[0;34m)\u001b[0m\u001b[0;34m)\u001b[0m\u001b[0;34m\u001b[0m\u001b[0;34m\u001b[0m\u001b[0m\n\u001b[0m",
      "\u001b[0;31mNameError\u001b[0m: name 'img' is not defined"
     ]
    }
   ],
   "source": [
    "array = np.array(img.read())\n",
    "array.shape #date lon lat"
   ]
  },
  {
   "cell_type": "code",
   "execution_count": 13,
   "id": "059eaada",
   "metadata": {},
   "outputs": [],
   "source": [
    "# note: for bootstrap, randomness needs to be introduced at this time (before the unit change)\n",
    "# Change units from watts to mm\n",
    "\n",
    "# get dates\n",
    "dates = pd.read_csv(here(\"./data/intermediate/ECOSTRESS/dates.csv\"))['x'].tolist()\n",
    "\n"
   ]
  },
  {
   "cell_type": "code",
   "execution_count": 14,
   "id": "da11aa37",
   "metadata": {},
   "outputs": [
    {
     "data": {
      "text/plain": [
       "['2019-01-27',\n",
       " '2019-01-28',\n",
       " '2019-01-28',\n",
       " '2019-01-29',\n",
       " '2019-01-29',\n",
       " '2019-01-29',\n",
       " '2019-02-01',\n",
       " '2019-02-02',\n",
       " '2019-05-30',\n",
       " '2019-05-31']"
      ]
     },
     "execution_count": 14,
     "metadata": {},
     "output_type": "execute_result"
    }
   ],
   "source": [
    "# average by time interval\n",
    "\n",
    "# these are the start dates of the wanted time intervals\n",
    "date_starts = [datetime.date(day = d, month = m, year = y) for y in (2019, 2020) for m in range(1, 13) for d in (1,15)]\n",
    "del date_starts[5:9]\n",
    "del date_starts[-3:-1]\n",
    "del date_starts[-1]\n",
    "\n",
    "# index of image on or nearest after start date\n",
    "start_index = [date_list.index(min([i for i in date_list if i >= date_start], key=lambda x:x-date_start)) + 1 for date_start in date_starts] # plus one since bands are 1 indexed\n",
    "\n",
    "# index of image on or nearest previous to start date + 61 days (this is for a non-inclusive index range so this date will be the first one not to be included in a subset)\n",
    "end_index = [date_list.index(min([i for i in date_list if i <= date_start + datetime.timedelta(days=61)], key=lambda x:date_start+datetime.timedelta(days=61)-x)) + 1 for date_start in date_starts] # plus one since bands are 1 indexed\n",
    "\n",
    "#average by time interval\n",
    "newarray = np.stack([array[start_index[i]:end_index[i]].mean(axis = 0) for i in range(0,len(start_index))], axis=0)\n",
    "newarray.shape"
   ]
  },
  {
   "cell_type": "code",
   "execution_count": null,
   "id": "57a628f3",
   "metadata": {},
   "outputs": [],
   "source": [
    "# save \n",
    "\n",
    "# get metadata\n",
    "metadata = img.profile\n",
    "metadata['count'] = 41 # 41 different time intervals\n",
    "\n",
    "# write your new raster\n",
    "with rasterio.open(here(\"./data/intermediate/ECOSTRESS/ETinst_rolling_average.tif\"), 'w', **metadata) as dst:\n",
    "    dst.write(newarray)"
   ]
  }
 ],
 "metadata": {
  "kernelspec": {
   "display_name": "Python 3",
   "language": "python",
   "name": "python3"
  },
  "language_info": {
   "codemirror_mode": {
    "name": "ipython",
    "version": 3
   },
   "file_extension": ".py",
   "mimetype": "text/x-python",
   "name": "python",
   "nbconvert_exporter": "python",
   "pygments_lexer": "ipython3",
   "version": "3.8.2"
  }
 },
 "nbformat": 4,
 "nbformat_minor": 5
}
