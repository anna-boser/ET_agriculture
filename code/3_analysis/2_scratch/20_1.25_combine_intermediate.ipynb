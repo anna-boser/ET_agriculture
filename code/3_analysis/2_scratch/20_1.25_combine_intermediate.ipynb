{
 "cells": [
  {
   "cell_type": "code",
   "execution_count": 1,
   "id": "c83cc36b-454d-483d-9ba0-6b8566f24cc7",
   "metadata": {},
   "outputs": [],
   "source": [
    "import rioxarray\n",
    "from pyprojroot import here\n",
    "import pandas as pd\n",
    "from osgeo import gdal\n",
    "import numpy as np\n",
    "import pickle\n",
    "\n",
    "# see https://gis.stackexchange.com/questions/358051/convert-raster-to-csv-with-lat-lon-and-value-columns\n",
    "def datasetify(raster_path, varname):\n",
    "    rds = rioxarray.open_rasterio(\n",
    "        raster_path,\n",
    "    )\n",
    "    rds = rds.squeeze().drop(\"spatial_ref\").drop(\"band\")\n",
    "    rds.name = varname\n",
    "    df = rds.to_dataframe().reset_index()\n",
    "    return df\n",
    "\n",
    "# flatten other rasters and add them to the dataset\n",
    "def add_columns(file, name):\n",
    "    ar = gdal.Open(str(file)).ReadAsArray()\n",
    "    if len(ar.shape) == 2:\n",
    "        ar = ar.reshape(ar.shape[0]*ar.shape[1]) #flatten the array\n",
    "        dataframe[name] = ar\n",
    "    elif len(ar.shape) == 3:\n",
    "        ar = ar.reshape(ar.shape[0], ar.shape[1]*ar.shape[2]) #flatten the array same as above\n",
    "        ar = ar.reshape(ar.shape[0]*ar.shape[1]) # flatten again\n",
    "        dataframe[name] = ar\n",
    "    else: \n",
    "        raise Exception(\"Unexpected number of dimensions\")\n"
   ]
  },
  {
   "cell_type": "code",
   "execution_count": 2,
   "id": "b890f5bb-1cd4-47da-9c03-c21d18349b8c",
   "metadata": {},
   "outputs": [],
   "source": [
    "# read in the time invarying version\n",
    "dataframe = pd.read_csv(str(here(\"./data/for_analysis/full_grid_time_invariant.csv\")))\n"
   ]
  },
  {
   "cell_type": "code",
   "execution_count": null,
   "id": "28c3b2fa-4754-4a95-839c-7667da289485",
   "metadata": {},
   "outputs": [],
   "source": [
    "# add time varying variable PET \n",
    "\n",
    "# first read in the start dates that each layer corresponds to\n",
    "with open(str(here(\"./data/intermediate/start_dates.pkl\")), 'rb') as f:\n",
    "    start_date = pickle.load(f)"
   ]
  },
  {
   "cell_type": "code",
   "execution_count": null,
   "id": "2f559a2c-7489-422d-9661-a947dc1a46ca",
   "metadata": {},
   "outputs": [],
   "source": [
    "# repeat the dataframe once for each start date\n",
    "repeated_start_date = np.repeat(start_date, dataframe.shape[0])\n",
    "dataframe = pd.concat([dataframe]*len(start_date))\n",
    "dataframe[\"start_date\"] = repeated_start_date"
   ]
  }
 ],
 "metadata": {
  "kernelspec": {
   "display_name": "Python [conda env:bplayground] *",
   "language": "python",
   "name": "conda-env-bplayground-py"
  },
  "language_info": {
   "codemirror_mode": {
    "name": "ipython",
    "version": 3
   },
   "file_extension": ".py",
   "mimetype": "text/x-python",
   "name": "python",
   "nbconvert_exporter": "python",
   "pygments_lexer": "ipython3",
   "version": "3.8.6"
  }
 },
 "nbformat": 4,
 "nbformat_minor": 5
}
