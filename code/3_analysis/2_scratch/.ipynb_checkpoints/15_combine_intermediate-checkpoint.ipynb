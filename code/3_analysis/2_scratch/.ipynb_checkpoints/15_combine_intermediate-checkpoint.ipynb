{
 "cells": [
  {
   "cell_type": "code",
   "execution_count": 3,
   "id": "9e16c90b-5b50-40f1-bc6b-3ee22bef55ba",
   "metadata": {},
   "outputs": [],
   "source": [
    "import rioxarray\n",
    "import pandas\n",
    "from pyprojroot import here\n",
    "import pandas as pd\n",
    "from osgeo import gdal\n",
    "import numpy as np\n",
    "import pickle"
   ]
  },
  {
   "cell_type": "code",
   "execution_count": 46,
   "id": "cca64504-4c76-475a-b12e-1b337c0c15e6",
   "metadata": {},
   "outputs": [
    {
     "data": {
      "text/html": [
       "<div>\n",
       "<style scoped>\n",
       "    .dataframe tbody tr th:only-of-type {\n",
       "        vertical-align: middle;\n",
       "    }\n",
       "\n",
       "    .dataframe tbody tr th {\n",
       "        vertical-align: top;\n",
       "    }\n",
       "\n",
       "    .dataframe thead th {\n",
       "        text-align: right;\n",
       "    }\n",
       "</style>\n",
       "<table border=\"1\" class=\"dataframe\">\n",
       "  <thead>\n",
       "    <tr style=\"text-align: right;\">\n",
       "      <th></th>\n",
       "      <th>y</th>\n",
       "      <th>x</th>\n",
       "      <th>agriculture</th>\n",
       "    </tr>\n",
       "  </thead>\n",
       "  <tbody>\n",
       "    <tr>\n",
       "      <th>0</th>\n",
       "      <td>42.009453</td>\n",
       "      <td>-124.409425</td>\n",
       "      <td>-3.400000e+38</td>\n",
       "    </tr>\n",
       "    <tr>\n",
       "      <th>1</th>\n",
       "      <td>42.009453</td>\n",
       "      <td>-124.408794</td>\n",
       "      <td>-3.400000e+38</td>\n",
       "    </tr>\n",
       "    <tr>\n",
       "      <th>2</th>\n",
       "      <td>42.009453</td>\n",
       "      <td>-124.408163</td>\n",
       "      <td>-3.400000e+38</td>\n",
       "    </tr>\n",
       "    <tr>\n",
       "      <th>3</th>\n",
       "      <td>42.009453</td>\n",
       "      <td>-124.407532</td>\n",
       "      <td>-3.400000e+38</td>\n",
       "    </tr>\n",
       "    <tr>\n",
       "      <th>4</th>\n",
       "      <td>42.009453</td>\n",
       "      <td>-124.406901</td>\n",
       "      <td>-3.400000e+38</td>\n",
       "    </tr>\n",
       "    <tr>\n",
       "      <th>...</th>\n",
       "      <td>...</td>\n",
       "      <td>...</td>\n",
       "      <td>...</td>\n",
       "    </tr>\n",
       "    <tr>\n",
       "      <th>244611908</th>\n",
       "      <td>32.534425</td>\n",
       "      <td>-114.134295</td>\n",
       "      <td>-3.400000e+38</td>\n",
       "    </tr>\n",
       "    <tr>\n",
       "      <th>244611909</th>\n",
       "      <td>32.534425</td>\n",
       "      <td>-114.133664</td>\n",
       "      <td>-3.400000e+38</td>\n",
       "    </tr>\n",
       "    <tr>\n",
       "      <th>244611910</th>\n",
       "      <td>32.534425</td>\n",
       "      <td>-114.133033</td>\n",
       "      <td>-3.400000e+38</td>\n",
       "    </tr>\n",
       "    <tr>\n",
       "      <th>244611911</th>\n",
       "      <td>32.534425</td>\n",
       "      <td>-114.132402</td>\n",
       "      <td>-3.400000e+38</td>\n",
       "    </tr>\n",
       "    <tr>\n",
       "      <th>244611912</th>\n",
       "      <td>32.534425</td>\n",
       "      <td>-114.131771</td>\n",
       "      <td>-3.400000e+38</td>\n",
       "    </tr>\n",
       "  </tbody>\n",
       "</table>\n",
       "<p>244611913 rows × 3 columns</p>\n",
       "</div>"
      ],
      "text/plain": [
       "                   y           x   agriculture\n",
       "0          42.009453 -124.409425 -3.400000e+38\n",
       "1          42.009453 -124.408794 -3.400000e+38\n",
       "2          42.009453 -124.408163 -3.400000e+38\n",
       "3          42.009453 -124.407532 -3.400000e+38\n",
       "4          42.009453 -124.406901 -3.400000e+38\n",
       "...              ...         ...           ...\n",
       "244611908  32.534425 -114.134295 -3.400000e+38\n",
       "244611909  32.534425 -114.133664 -3.400000e+38\n",
       "244611910  32.534425 -114.133033 -3.400000e+38\n",
       "244611911  32.534425 -114.132402 -3.400000e+38\n",
       "244611912  32.534425 -114.131771 -3.400000e+38\n",
       "\n",
       "[244611913 rows x 3 columns]"
      ]
     },
     "execution_count": 46,
     "metadata": {},
     "output_type": "execute_result"
    }
   ],
   "source": [
    "# start off dataset by getting x and y coordinates with a first file\n",
    "# ag = gdal.Open(str(here(\"./data/intermediate/agriculture/ag_indicator.tif\")))\n",
    "# ag = gdal.Translate(\"ag.xyz\", ag)\n",
    "# ag = pd.read_csv(\"ag.xyz\", sep = \" \", header = None) #this takes forever\n",
    "\n",
    "# see https://gis.stackexchange.com/questions/358051/convert-raster-to-csv-with-lat-lon-and-value-columns\n",
    "def datasetify(raster_path, varname):\n",
    "    rds = rioxarray.open_rasterio(\n",
    "        raster_path,\n",
    "    )\n",
    "    rds = rds.squeeze().drop(\"spatial_ref\").drop(\"band\")\n",
    "    rds.name = varname\n",
    "    df = rds.to_dataframe().reset_index()\n",
    "    return df\n",
    "\n",
    "dataframe = datasetify(str(here(\"./data/intermediate/agriculture/ag_indicator.tif\")), \n",
    "               \"agriculture\")\n",
    "\n",
    "dataframe"
   ]
  },
  {
   "cell_type": "code",
   "execution_count": 47,
   "id": "fdd52f0f-a6c7-42de-b8d5-a1787b7af2ee",
   "metadata": {},
   "outputs": [],
   "source": [
    "# flatten other rasters and add them to the dataset\n",
    "def add_columns(file, name):\n",
    "    ar = gdal.Open(str(file)).ReadAsArray()\n",
    "    if len(ar.shape) == 2:\n",
    "        ar = ar.reshape(ar.shape[0]*ar.shape[1]) #flatten the array\n",
    "        dataframe[name] = ar\n",
    "    elif len(ar.shape) == 3:\n",
    "        ar = ar.reshape(ar.shape[0], ar.shape[1]*ar.shape[2]) #flatten the array same as above\n",
    "        ar = ar.reshape(ar.shape[0]*ar.shape[1]) # flatten again\n",
    "        dataframe[name] = ar\n",
    "    else: \n",
    "        raise Exception(\"Unexpected number of dimensions\")\n"
   ]
  },
  {
   "cell_type": "code",
   "execution_count": null,
   "id": "bff2b4b9-43e8-4db7-88eb-3a6763179328",
   "metadata": {},
   "outputs": [],
   "source": [
    "# add all time invarying variables\n",
    "\n",
    "add_columns(here(\"./data/intermediate/counterf/counterf_indicator.tif\"), \n",
    "           \"counterfactual\")\n",
    "\n",
    "add_columns(here(\"./data/intermediate/topography/elevation.tif\"), \n",
    "                     \"elevation\")\n",
    "\n",
    "add_columns(here(\"./data/intermediate/topography/aspect.tif\"), \n",
    "                     \"aspect\")\n",
    "\n",
    "add_columns(here(\"./data/intermediate/topography/slope.tif\"), \n",
    "                     \"slope\")\n",
    "\n",
    "add_columns(here(\"./data/intermediate/CA_storie/CA_storie.tif\"), \n",
    "                     \"soil\")"
   ]
  },
  {
   "cell_type": "code",
   "execution_count": 53,
   "id": "2a19e695-14ec-4467-889a-860b4657ca9f",
   "metadata": {},
   "outputs": [
    {
     "name": "stderr",
     "output_type": "stream",
     "text": [
      "/opt/anaconda3/envs/bplayground/lib/python3.8/site-packages/pyprojroot/pyprojroot.py:51: UserWarning: Path doesn't exist: /Users/annaboser/Documents/GitHub/ET_agriculture/data/for_analysis/full_grid_time_invariant.csv\n",
      "  warnings.warn(\"Path doesn't exist: {}\".format(path))\n"
     ]
    }
   ],
   "source": [
    "# save the time invarying version\n",
    "dataframe.to_csv(here(\"./data/for_analysis/full_grid_time_invariant.csv\"), index=False)"
   ]
  },
  {
   "cell_type": "code",
   "execution_count": 55,
   "id": "46e6b84c-73d0-462e-9ef4-16997a441f2b",
   "metadata": {},
   "outputs": [],
   "source": [
    "# add time varying variables (PET and ET)\n",
    "\n",
    "# first read in the start dates that each layer corresponds to\n",
    "with open(here(\"./data/intermediate/start_dates.pkl\"), 'rb') as f:\n",
    "    start_date = pickle.load(f)\n",
    "\n",
    "# repeat the dataframe once for each start date\n",
    "repeated_start_date = np.repeat(start_date, dataframe.shape[0])\n",
    "dataframe = pd.concat([dataframe]*len(start_date))\n",
    "dataframe[\"start_date\"] = repeated_start_date"
   ]
  },
  {
   "cell_type": "code",
   "execution_count": null,
   "id": "9b0ad20b-5571-4814-af4c-545b0d0b13fd",
   "metadata": {},
   "outputs": [],
   "source": [
    "# add PET and ET\n",
    "add_columns(here(\"./data/intermediate/PET/PET_rolling_avg.tif\"), \n",
    "                     \"PET\")\n",
    "\n",
    "add_columns(here(\"./data/intermediate/ECOSTRESS/ETinst_rolling_average.tif\"), \n",
    "                     \"ET\")"
   ]
  },
  {
   "cell_type": "code",
   "execution_count": null,
   "id": "78055efc-44aa-4c65-bab8-6490433f8b7c",
   "metadata": {},
   "outputs": [],
   "source": [
    "# save the full dataset\n",
    "dataframe.to_csv(here(\"./data/for_analysis/full_grid.csv\"), index=False)"
   ]
  },
  {
   "cell_type": "code",
   "execution_count": null,
   "id": "1782609d-c3a2-40ba-a408-327b819ad640",
   "metadata": {},
   "outputs": [],
   "source": [
    "# filter the dataset to only agriculture and save \n",
    "ag = dataframe.loc[(dataframe.agriculture == 1)]\n",
    "ag.to_csv(here(\"./data/for_analysis/agriculture.csv\"), index=False)"
   ]
  },
  {
   "cell_type": "code",
   "execution_count": null,
   "id": "a85ee511-de73-44b5-a9f3-1052b2a95064",
   "metadata": {},
   "outputs": [],
   "source": [
    "# filter the dataset to only vegetation and save\n",
    "veg = dataframe.loc[(dataframe.counterfactual == 1)]\n",
    "veg.to_csv(here(\"./data/for_analysis/counterfactual.csv\"), index=False)"
   ]
  }
 ],
 "metadata": {
  "kernelspec": {
   "display_name": "Python [conda env:bplayground] *",
   "language": "python",
   "name": "conda-env-bplayground-py"
  },
  "language_info": {
   "codemirror_mode": {
    "name": "ipython",
    "version": 3
   },
   "file_extension": ".py",
   "mimetype": "text/x-python",
   "name": "python",
   "nbconvert_exporter": "python",
   "pygments_lexer": "ipython3",
   "version": "3.8.6"
  }
 },
 "nbformat": 4,
 "nbformat_minor": 5
}
