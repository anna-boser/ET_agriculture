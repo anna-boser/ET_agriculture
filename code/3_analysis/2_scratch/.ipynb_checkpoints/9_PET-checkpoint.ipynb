{
 "cells": [
  {
   "cell_type": "code",
   "execution_count": 7,
   "id": "bd0b73aa",
   "metadata": {},
   "outputs": [],
   "source": [
    "from pyprojroot import here\n",
    "import rasterio\n",
    "from rasterio.plot import show\n",
    "import datetime\n",
    "import numpy as np\n",
    "import pandas as pd"
   ]
  },
  {
   "cell_type": "code",
   "execution_count": 8,
   "id": "56d6ba9c",
   "metadata": {},
   "outputs": [],
   "source": [
    "img = rasterio.open(here(\"./data/intermediate/PET/PETbrick_OGres.tif\")) # NA values are -3.4e+38"
   ]
  },
  {
   "cell_type": "code",
   "execution_count": 10,
   "id": "3e8b39a7",
   "metadata": {},
   "outputs": [
    {
     "data": {
      "text/plain": [
       "<Figure size 640x480 with 1 Axes>"
      ]
     },
     "metadata": {},
     "output_type": "display_data"
    },
    {
     "data": {
      "text/plain": [
       "<AxesSubplot:>"
      ]
     },
     "execution_count": 10,
     "metadata": {},
     "output_type": "execute_result"
    }
   ],
   "source": [
    "show(img)"
   ]
  },
  {
   "cell_type": "code",
   "execution_count": 14,
   "id": "aa9b91b9",
   "metadata": {},
   "outputs": [
    {
     "name": "stdout",
     "output_type": "stream",
     "text": [
      "103 95 731\n"
     ]
    },
    {
     "data": {
      "text/plain": [
       "(731, 95, 103)"
      ]
     },
     "execution_count": 14,
     "metadata": {},
     "output_type": "execute_result"
    }
   ],
   "source": [
    "print(img.width, img.height, img.count) # I have 103 lat (rows), 95 lon (cols), and 703 days\n",
    "array = np.array(img.read())\n",
    "array.shape #date lon lat"
   ]
  },
  {
   "cell_type": "code",
   "execution_count": 15,
   "id": "5a6d22b7",
   "metadata": {},
   "outputs": [],
   "source": [
    "# get a list of the start indices and end indices of each of your time intervals\n",
    "\n",
    "# these are the dates of the images (bands) in order\n",
    "base = datetime.date(day = 1, month = 1, year = 2019) #start Jan 1 2019\n",
    "date_list = [base + datetime.timedelta(days=x) for x in range(img.count)]\n",
    "\n",
    "# these are the start dates of the wanted time intervals\n",
    "date_starts = [datetime.date(day = d, month = m, year = y) for y in (2019, 2020) for m in range(1, 13) for d in (1,15)]\n",
    "del date_starts[5:9]\n",
    "del date_starts[-3:-1]\n",
    "del date_starts[-1]\n",
    "\n",
    "# index of image on or nearest after start date\n",
    "start_index = [date_list.index(min([i for i in date_list if i >= date_start], key=lambda x:x-date_start)) + 1 for date_start in date_starts] # plus one since bands are 1 indexed\n",
    "\n",
    "# index of image on or nearest previous to start date + 61 days (this is for a non-inclusive index range so this date will be the first one not to be included in a subset)\n",
    "end_index = [date_list.index(min([i for i in date_list if i <= date_start + datetime.timedelta(days=61)], key=lambda x:date_start+datetime.timedelta(days=61)-x)) + 1 for date_start in date_starts] # plus one since bands are 1 indexed"
   ]
  },
  {
   "cell_type": "code",
   "execution_count": 16,
   "id": "244fe653",
   "metadata": {
    "tags": []
   },
   "outputs": [
    {
     "name": "stderr",
     "output_type": "stream",
     "text": [
      "/opt/anaconda3/lib/python3.8/site-packages/numpy/core/_methods.py:179: RuntimeWarning: overflow encountered in reduce\n",
      "  ret = umr_sum(arr, axis, dtype, out, keepdims, where=where)\n"
     ]
    },
    {
     "data": {
      "text/plain": [
       "(41, 95, 103)"
      ]
     },
     "execution_count": 16,
     "metadata": {},
     "output_type": "execute_result"
    }
   ],
   "source": [
    "newarray = np.stack([array[start_index[i]:end_index[i]].mean(axis = 0) for i in range(0,len(start_index))], axis=0)\n",
    "newarray.shape"
   ]
  },
  {
   "cell_type": "code",
   "execution_count": 17,
   "id": "7e064d5f",
   "metadata": {},
   "outputs": [],
   "source": [
    "metadata = img.profile\n",
    "metadata['count'] = 41"
   ]
  },
  {
   "cell_type": "code",
   "execution_count": 18,
   "id": "5a786e37",
   "metadata": {},
   "outputs": [],
   "source": [
    "# write your new raster\n",
    "with rasterio.open(here(\"./data/intermediate/PET/PET_rolling_avg_OGres.tif\"), 'w', **metadata) as dst:\n",
    "    dst.write(newarray)"
   ]
  }
 ],
 "metadata": {
  "kernelspec": {
   "display_name": "Python 3",
   "language": "python",
   "name": "python3"
  },
  "language_info": {
   "codemirror_mode": {
    "name": "ipython",
    "version": 3
   },
   "file_extension": ".py",
   "mimetype": "text/x-python",
   "name": "python",
   "nbconvert_exporter": "python",
   "pygments_lexer": "ipython3",
   "version": "3.8.2"
  }
 },
 "nbformat": 4,
 "nbformat_minor": 5
}
