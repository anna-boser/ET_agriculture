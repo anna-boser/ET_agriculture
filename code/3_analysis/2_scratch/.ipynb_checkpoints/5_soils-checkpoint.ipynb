{
 "cells": [
  {
   "cell_type": "code",
   "execution_count": 1,
   "id": "9a1ece47-e4ff-46dc-94e1-135aa8005055",
   "metadata": {},
   "outputs": [],
   "source": [
    "# this script is the equivalent to the r script that processes the CA storie data, \n",
    "# but since that script makes problematic files I decided to translate it to python. \n",
    "\n",
    "# This script uses the CA storie index data obtained from \n",
    "# Campbell, Steve - FPAC-NRCS, Portland, OR <steve.campbell@usda.gov>\n",
    "# and processes it to get a consistent 70m storie index raster over CA\n",
    "\n",
    "# Anna Boser Dec 29, 2021"
   ]
  },
  {
   "cell_type": "code",
   "execution_count": 2,
   "id": "96d2b02d-929b-4068-ab8e-eeb6901b5706",
   "metadata": {},
   "outputs": [],
   "source": [
    "from pyprojroot import here\n",
    "import rasterio\n",
    "import datetime\n",
    "import numpy as np\n",
    "import pandas as pd\n",
    "from osgeo import gdal, gdalconst\n",
    "import matplotlib.pyplot as plt"
   ]
  },
  {
   "cell_type": "code",
   "execution_count": 3,
   "id": "ddafa994-b45a-4fa9-906f-2b4d908cab6f",
   "metadata": {},
   "outputs": [
    {
     "name": "stdout",
     "output_type": "stream",
     "text": [
      "(15017, 16289)\n"
     ]
    }
   ],
   "source": [
    "# my grid and map of california\n",
    "# CA_grid <- raster(here(\"data\", \"intermediate\", \"CA_grid.tif\"))\n",
    "# CA <- st_read(here(\"data\", \"raw\", \"shapefiles\", \"california\", \"california.shp\")) %>% st_transform(st_crs(CA_grid))\n",
    "\n",
    "CA_grid = gdal.Open(str(here(\"./data/intermediate/CA_grid.tif\")))\n",
    "CA_grid = CA_grid.ReadAsArray()\n",
    "print(CA_grid.shape)"
   ]
  },
  {
   "cell_type": "code",
   "execution_count": 4,
   "id": "b05dbaad-776b-4d97-9a05-d59422ff201f",
   "metadata": {},
   "outputs": [
    {
     "name": "stdout",
     "output_type": "stream",
     "text": [
      "(124530, 75948)\n"
     ]
    }
   ],
   "source": [
    "# the grid that the values in the CSV correspond to\n",
    "# gNATSGO_grid <- raster(here(\"data\", \"raw\", \"CA_storie\", \"CA_gNATSGO_MuRaster_tif\", \"MapunitRaster_10m.tif\"))\n",
    "# gNATSGO_grid_crop <- crop(gNATSGO_grid,  st_transform(CA, st_crs(gNATSGO_grid)))\n",
    "\n",
    "gNATSGO_grid = gdal.Open(str(here(\"./data/raw/CA_storie/CA_gNATSGO_MuRaster_tif/MapunitRaster_10m.tif\")))\n",
    "gNATSGO_grid = gNATSGO_grid.ReadAsArray()\n",
    "print(gNATSGO_grid.shape)"
   ]
  },
  {
   "cell_type": "code",
   "execution_count": 7,
   "id": "e006fa27-82e1-4d96-bb0e-57d2243a2d18",
   "metadata": {},
   "outputs": [
    {
     "name": "stderr",
     "output_type": "stream",
     "text": [
      "/opt/anaconda3/envs/bplayground/lib/python3.8/site-packages/IPython/core/interactiveshell.py:3169: DtypeWarning: Columns (8,14) have mixed types.Specify dtype option on import or set low_memory=False.\n",
      "  has_raised = await self.run_ast_nodes(code_ast.body, cell_name,\n"
     ]
    }
   ],
   "source": [
    "# the storie index\n",
    "# storie <- read.csv(here(\"data\", \"raw\", \"CA_storie\", \"CA_all_NASIS_Storie_Index_SSURGO_STATSGO2.csv\"))\n",
    "\n",
    "storie = pd.read_csv(str(here(\"./data/raw/CA_storie/CA_all_NASIS_Storie_Index_SSURGO_STATSGO2.csv\")))"
   ]
  },
  {
   "cell_type": "code",
   "execution_count": null,
   "id": "df1f649c-f97b-469c-908f-bfd5658b12bf",
   "metadata": {},
   "outputs": [],
   "source": [
    "# soil data are organized in a strange way where there are unique map units\n",
    "# that are associated with a location (and thus can be mapped using the gNATSGO grid).\n",
    "# However, there are often multiple components within one map unit but their location\n",
    "# is unknown. Therefore, to get an average value of soil quality for each map key, \n",
    "# I need to average the storie index accross components, weighting each one by prevalence. \n",
    "\n",
    "# storie <- storie %>% \n",
    "#   group_by(mukey) %>%\n",
    "#   summarise(storie = stats::weighted.mean(Storie_Index_rev, comppct_r, na.rm = TRUE))"
   ]
  },
  {
   "cell_type": "code",
   "execution_count": null,
   "id": "98e0bb47-a976-4bb3-86a5-3576a66b5949",
   "metadata": {},
   "outputs": [],
   "source": [
    "gNATSGO_storie = gdal.Open(str(here(\"./data/intermediate/CA_storie/gNATSGO_storie.tif\")))\n",
    "gNATSGO_storie = gNATSGO_storie.ReadAsArray()\n",
    "print(gNATSGO_storie.shape)"
   ]
  },
  {
   "cell_type": "code",
   "execution_count": null,
   "id": "e14b8733-6c49-4bc4-83df-e62b66b118b3",
   "metadata": {},
   "outputs": [],
   "source": [
    "plt.figure()\n",
    "plt.imshow(gNATSGO_storie)\n",
    "plt.colorbar()\n",
    "plt.show()"
   ]
  }
 ],
 "metadata": {
  "kernelspec": {
   "display_name": "Python 3",
   "language": "python",
   "name": "python3"
  },
  "language_info": {
   "codemirror_mode": {
    "name": "ipython",
    "version": 3
   },
   "file_extension": ".py",
   "mimetype": "text/x-python",
   "name": "python",
   "nbconvert_exporter": "python",
   "pygments_lexer": "ipython3",
   "version": "3.8.6"
  }
 },
 "nbformat": 4,
 "nbformat_minor": 5
}
