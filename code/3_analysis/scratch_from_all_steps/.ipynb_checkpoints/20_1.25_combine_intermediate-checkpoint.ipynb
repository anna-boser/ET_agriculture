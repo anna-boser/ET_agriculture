{
 "cells": [
  {
   "cell_type": "code",
   "execution_count": null,
   "id": "c83cc36b-454d-483d-9ba0-6b8566f24cc7",
   "metadata": {},
   "outputs": [],
   "source": []
  }
 ],
 "metadata": {
  "kernelspec": {
   "display_name": "Python [conda env:bplayground] *",
   "language": "python",
   "name": "conda-env-bplayground-py"
  },
  "language_info": {
   "name": ""
  }
 },
 "nbformat": 4,
 "nbformat_minor": 5
}
