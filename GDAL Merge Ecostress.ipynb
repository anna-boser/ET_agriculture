{
 "cells": [
  {
   "cell_type": "code",
   "execution_count": null,
   "id": "74d415d4-6cee-431e-a8b5-1054dc23ac5c",
   "metadata": {},
   "outputs": [],
   "source": [
    "import os\n",
    "file_list = os.listdir('testimages')\n",
    "file_list = ['testimages/' + file for file in file_list]\n",
    "print(file_list)"
   ]
  },
  {
   "cell_type": "code",
   "execution_count": null,
   "id": "07041a88-b003-4ab1-9338-f069d6d7596b",
   "metadata": {},
   "outputs": [],
   "source": [
    "import datetime\n",
    "def parse_filename(file_string,result='timestamp'):\n",
    "    (root_string,variable,method,source,raster_type,timestamp,end_string) = file_string.split('_')\n",
    "    if result == 'timestamp':\n",
    "        return datetime.datetime.strptime(timestamp[3:], \"%Y%j%H%M%S\")\n",
    "    elif result == 'raster_type':\n",
    "        return raster_type\n",
    "    else:\n",
    "        return None    "
   ]
  },
  {
   "cell_type": "code",
   "execution_count": null,
   "id": "56f8a82b-3411-4e84-84fd-26a92182dd4d",
   "metadata": {},
   "outputs": [],
   "source": [
    "def merge_files(file_list, output=None):\n",
    "    if output:\n",
    "        file_string = \" \".join(file_list)\n",
    "        print(\"Merging {files}\".format(files=file_string))\n",
    "        command = \"gdal_merge.py -o {output} -of gtiff \".format(output=output) + file_string\n",
    "    else:\n",
    "        raise ValueError(\"Must provide output filename as argument\")\n",
    "    print(os.popen(command).read())\n",
    "    return None"
   ]
  },
  {
   "cell_type": "code",
   "execution_count": null,
   "id": "bc93bd69-3c7a-40b1-9f32-1240c0e96c14",
   "metadata": {},
   "outputs": [],
   "source": [
    "df = pd.DataFrame(file_list, columns=['name'])\n",
    "df['timestamp'] = df['name'].apply(parse_filename)\n",
    "df['raster_type'] = df['name'].apply(parse_filename, result='raster_type')\n",
    "df['year'] = df['timestamp'].apply(lambda x: x.year)\n",
    "df['doy'] = df['timestamp'].apply(lambda x: x.timetuple().tm_yday)"
   ]
  },
  {
   "cell_type": "code",
   "execution_count": null,
   "id": "816b8e03-a99a-4aa2-947b-51cd89b2a484",
   "metadata": {},
   "outputs": [],
   "source": [
    "years = df.year.unique()\n",
    "days = df.doy.unique()\n",
    "\n",
    "raster_type = 'ETinst'\n",
    "for year in years:\n",
    "    for day in days:\n",
    "        merged_output_filename = \"merged_{year}_{doy}_{raster_type}.tif\".format(\n",
    "            raster_type=raster_type,\n",
    "            year=year,\n",
    "            doy=day)\n",
    "        file_list = (df[\n",
    "            (df['year'] == year) & \n",
    "            (df['doy'] == day) & \n",
    "            (df['raster_type'] == raster_type)\n",
    "        ].name.to_list())\n",
    "        merge_files(file_list, output=merged_output_filename )"
   ]
  }
 ],
 "metadata": {
  "kernelspec": {
   "display_name": "Python [conda env:bplayground] *",
   "language": "python",
   "name": "conda-env-bplayground-py"
  },
  "language_info": {
   "codemirror_mode": {
    "name": "ipython",
    "version": 3
   },
   "file_extension": ".py",
   "mimetype": "text/x-python",
   "name": "python",
   "nbconvert_exporter": "python",
   "pygments_lexer": "ipython3",
   "version": "3.8.6"
  }
 },
 "nbformat": 4,
 "nbformat_minor": 5
}
